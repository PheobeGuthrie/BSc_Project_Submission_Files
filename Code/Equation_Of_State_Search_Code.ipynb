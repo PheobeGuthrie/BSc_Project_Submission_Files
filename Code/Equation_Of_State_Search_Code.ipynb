{
  "nbformat": 4,
  "nbformat_minor": 0,
  "metadata": {
    "colab": {
      "name": "Equation Of State Search Code.ipynb",
      "provenance": [],
      "collapsed_sections": []
    },
    "kernelspec": {
      "name": "python3",
      "display_name": "Python 3"
    },
    "language_info": {
      "name": "python"
    }
  },
  "cells": [
    {
      "cell_type": "code",
      "metadata": {
        "id": "NylaHeNJeXFO"
      },
      "source": [
        ""
      ],
      "execution_count": null,
      "outputs": []
    },
    {
      "cell_type": "markdown",
      "metadata": {
        "id": "ES0kE41Yei8U"
      },
      "source": [
        "# Equation of State Search Code\n",
        "The aim of the code in this file is to impose search parameters on all available EoS to select valid EoS for given values."
      ]
    },
    {
      "cell_type": "code",
      "metadata": {
        "colab": {
          "base_uri": "https://localhost:8080/"
        },
        "id": "1yGx_eoeezuY",
        "outputId": "28aa584e-d8c6-4c8c-bd77-7dc1fd1f0085"
      },
      "source": [
        "## required for loading in PYCBC ##\n",
        "import sys\n",
        "!{sys.executable} -m pip install pycbc lalsuite ligo-common --no-cache-dir"
      ],
      "execution_count": 5,
      "outputs": [
        {
          "output_type": "stream",
          "text": [
            "Collecting pycbc\n",
            "\u001b[?25l  Downloading https://files.pythonhosted.org/packages/f0/6a/b247e66914dac4aaab3947f2f2379da75c7cc0ef7889d0fb580d7a594eee/PyCBC-1.18.1-cp37-cp37m-manylinux2010_x86_64.whl (6.7MB)\n",
            "\u001b[K     |████████████████████████████████| 6.7MB 5.3MB/s \n",
            "\u001b[?25hCollecting lalsuite\n",
            "\u001b[?25l  Downloading https://files.pythonhosted.org/packages/11/66/4fd2e7d9e8727c316461500202db74d7ac3f789d42f2817bc82ea7379d90/lalsuite-6.82-cp37-cp37m-manylinux2014_x86_64.whl (27.3MB)\n",
            "\u001b[K     |████████████████████████████████| 27.3MB 1.7MB/s \n",
            "\u001b[?25hCollecting ligo-common\n",
            "  Downloading https://files.pythonhosted.org/packages/a6/9c/1fbe176feea9abad5c0f3fa090dcffccf44bbcba0f0c754b03d8fea1a36e/ligo_common-1.0.3-py2.py3-none-any.whl\n",
            "Collecting ligo-segments\n",
            "\u001b[?25l  Downloading https://files.pythonhosted.org/packages/53/96/0b4ec9e9a73444ddfe259460b6f059e89258d6d2356374d9ec7f52ba965e/ligo-segments-1.3.0.tar.gz (52kB)\n",
            "\u001b[K     |████████████████████████████████| 61kB 38.6MB/s \n",
            "\u001b[?25hRequirement already satisfied: decorator>=3.4.2 in /usr/local/lib/python3.7/dist-packages (from pycbc) (4.4.2)\n",
            "Collecting gwdatafind\n",
            "  Downloading https://files.pythonhosted.org/packages/d6/9e/616124723b7a8f2a5399f9288b056bb31f37222b0b7cae46f6bafaa42154/gwdatafind-1.0.4-py2.py3-none-any.whl\n",
            "Collecting lscsoft-glue>=1.59.3\n",
            "\u001b[?25l  Downloading https://files.pythonhosted.org/packages/3b/65/e93853bc1876516db8d58f4590dba1d6b85eaf9d1bd375926ac7897e525a/lscsoft-glue-2.0.0.tar.gz (1.6MB)\n",
            "\u001b[K     |████████████████████████████████| 1.6MB 31.6MB/s \n",
            "\u001b[?25hRequirement already satisfied: h5py>=2.5; python_version > \"3.6\" in /usr/local/lib/python3.7/dist-packages (from pycbc) (3.1.0)\n",
            "Requirement already satisfied: tqdm in /usr/local/lib/python3.7/dist-packages (from pycbc) (4.41.1)\n",
            "Requirement already satisfied: six>=1.10.0 in /usr/local/lib/python3.7/dist-packages (from pycbc) (1.15.0)\n",
            "Requirement already satisfied: numpy!=1.19.0,>=1.16.0; python_version >= \"3.5\" in /usr/local/lib/python3.7/dist-packages (from pycbc) (1.19.5)\n",
            "Requirement already satisfied: scipy>=0.16.0; python_version >= \"3.5\" in /usr/local/lib/python3.7/dist-packages (from pycbc) (1.4.1)\n",
            "Requirement already satisfied: matplotlib>=1.5.1 in /usr/local/lib/python3.7/dist-packages (from pycbc) (3.2.2)\n",
            "Requirement already satisfied: cython>=0.29 in /usr/local/lib/python3.7/dist-packages (from pycbc) (0.29.23)\n",
            "Collecting mpld3>=0.3\n",
            "\u001b[?25l  Downloading https://files.pythonhosted.org/packages/7d/b4/f380b6d58658106870161d703972b74fc2e66317acf298f873c0816d1fb2/mpld3-0.5.2.tar.gz (888kB)\n",
            "\u001b[K     |████████████████████████████████| 890kB 31.8MB/s \n",
            "\u001b[?25hCollecting astropy!=4.0.5,!=4.2.1,>=2.0.3; python_version > \"3.0\"\n",
            "\u001b[?25l  Downloading https://files.pythonhosted.org/packages/dc/16/7724205e25a8fdd2bc5ccb79c9240947f5cba9dc07e58c30e6df85fd82c0/astropy-4.2-cp37-cp37m-manylinux1_x86_64.whl (9.7MB)\n",
            "\u001b[K     |████████████████████████████████| 9.7MB 25.1MB/s \n",
            "\u001b[?25hRequirement already satisfied: pillow in /usr/local/lib/python3.7/dist-packages (from pycbc) (7.1.2)\n",
            "Requirement already satisfied: beautifulsoup4>=4.6.0 in /usr/local/lib/python3.7/dist-packages (from pycbc) (4.6.3)\n",
            "Collecting Mako>=1.0.1\n",
            "\u001b[?25l  Downloading https://files.pythonhosted.org/packages/f3/54/dbc07fbb20865d3b78fdb7cf7fa713e2cba4f87f71100074ef2dc9f9d1f7/Mako-1.1.4-py2.py3-none-any.whl (75kB)\n",
            "\u001b[K     |████████████████████████████████| 81kB 45.1MB/s \n",
            "\u001b[?25hRequirement already satisfied: requests>=1.2.1 in /usr/local/lib/python3.7/dist-packages (from pycbc) (2.23.0)\n",
            "Requirement already satisfied: jinja2 in /usr/local/lib/python3.7/dist-packages (from pycbc) (2.11.3)\n",
            "Requirement already satisfied: python-dateutil in /usr/local/lib/python3.7/dist-packages (from lalsuite) (2.8.1)\n",
            "Collecting pyOpenSSL\n",
            "\u001b[?25l  Downloading https://files.pythonhosted.org/packages/b2/5e/06351ede29fd4899782ad335c2e02f1f862a887c20a3541f17c3fa1a3525/pyOpenSSL-20.0.1-py2.py3-none-any.whl (54kB)\n",
            "\u001b[K     |████████████████████████████████| 61kB 26.6MB/s \n",
            "\u001b[?25hRequirement already satisfied: cached-property; python_version < \"3.8\" in /usr/local/lib/python3.7/dist-packages (from h5py>=2.5; python_version > \"3.6\"->pycbc) (1.5.2)\n",
            "Requirement already satisfied: pyparsing!=2.0.4,!=2.1.2,!=2.1.6,>=2.0.1 in /usr/local/lib/python3.7/dist-packages (from matplotlib>=1.5.1->pycbc) (2.4.7)\n",
            "Requirement already satisfied: cycler>=0.10 in /usr/local/lib/python3.7/dist-packages (from matplotlib>=1.5.1->pycbc) (0.10.0)\n",
            "Requirement already satisfied: kiwisolver>=1.0.1 in /usr/local/lib/python3.7/dist-packages (from matplotlib>=1.5.1->pycbc) (1.3.1)\n",
            "Requirement already satisfied: pyerfa in /usr/local/lib/python3.7/dist-packages (from astropy!=4.0.5,!=4.2.1,>=2.0.3; python_version > \"3.0\"->pycbc) (2.0.0)\n",
            "Requirement already satisfied: MarkupSafe>=0.9.2 in /usr/local/lib/python3.7/dist-packages (from Mako>=1.0.1->pycbc) (2.0.1)\n",
            "Requirement already satisfied: chardet<4,>=3.0.2 in /usr/local/lib/python3.7/dist-packages (from requests>=1.2.1->pycbc) (3.0.4)\n",
            "Requirement already satisfied: certifi>=2017.4.17 in /usr/local/lib/python3.7/dist-packages (from requests>=1.2.1->pycbc) (2020.12.5)\n",
            "Requirement already satisfied: idna<3,>=2.5 in /usr/local/lib/python3.7/dist-packages (from requests>=1.2.1->pycbc) (2.10)\n",
            "Requirement already satisfied: urllib3!=1.25.0,!=1.25.1,<1.26,>=1.21.1 in /usr/local/lib/python3.7/dist-packages (from requests>=1.2.1->pycbc) (1.24.3)\n",
            "Collecting cryptography>=3.2\n",
            "\u001b[?25l  Downloading https://files.pythonhosted.org/packages/b2/26/7af637e6a7e87258b963f1731c5982fb31cd507f0d90d91836e446955d02/cryptography-3.4.7-cp36-abi3-manylinux2014_x86_64.whl (3.2MB)\n",
            "\u001b[K     |████████████████████████████████| 3.2MB 30.7MB/s \n",
            "\u001b[?25hRequirement already satisfied: cffi>=1.12 in /usr/local/lib/python3.7/dist-packages (from cryptography>=3.2->pyOpenSSL->gwdatafind->pycbc) (1.14.5)\n",
            "Requirement already satisfied: pycparser in /usr/local/lib/python3.7/dist-packages (from cffi>=1.12->cryptography>=3.2->pyOpenSSL->gwdatafind->pycbc) (2.20)\n",
            "Building wheels for collected packages: ligo-segments, lscsoft-glue, mpld3\n",
            "  Building wheel for ligo-segments (setup.py) ... \u001b[?25l\u001b[?25hdone\n",
            "  Created wheel for ligo-segments: filename=ligo_segments-1.3.0-cp37-cp37m-linux_x86_64.whl size=85994 sha256=446849ed62b3e584bd487b4ce08bf199ae784ee698264df203686dc48ff054cb\n",
            "  Stored in directory: /tmp/pip-ephem-wheel-cache-1sh4gkl9/wheels/21/e8/4d/bfb61e2ececd2ba80c3b5c6691a8434358a655d6c2e7730ca9\n",
            "  Building wheel for lscsoft-glue (setup.py) ... \u001b[?25l\u001b[?25hdone\n",
            "  Created wheel for lscsoft-glue: filename=lscsoft_glue-2.0.0-cp37-cp37m-linux_x86_64.whl size=416782 sha256=448219fbb3babe23438bdd04e6df97314161ec607e2aa8f8e5fcda77fa1c431c\n",
            "  Stored in directory: /tmp/pip-ephem-wheel-cache-1sh4gkl9/wheels/aa/fa/38/d61b002c627ca54f03755b9a288f4b1fa83291608a4bc47b7b\n",
            "  Building wheel for mpld3 (setup.py) ... \u001b[?25l\u001b[?25hdone\n",
            "  Created wheel for mpld3: filename=mpld3-0.5.2-cp37-none-any.whl size=200617 sha256=2ba879a9a285fbee288133f58524eefe428003fd66998b92c2b299f26b976653\n",
            "  Stored in directory: /tmp/pip-ephem-wheel-cache-1sh4gkl9/wheels/21/73/06/ea4b85609301850b1289a282852d92e22fcbf7a250ed5f547f\n",
            "Successfully built ligo-segments lscsoft-glue mpld3\n",
            "Installing collected packages: ligo-segments, cryptography, pyOpenSSL, gwdatafind, lscsoft-glue, lalsuite, mpld3, astropy, Mako, pycbc, ligo-common\n",
            "  Found existing installation: astropy 4.2.1\n",
            "    Uninstalling astropy-4.2.1:\n",
            "      Successfully uninstalled astropy-4.2.1\n",
            "Successfully installed Mako-1.1.4 astropy-4.2 cryptography-3.4.7 gwdatafind-1.0.4 lalsuite-6.82 ligo-common-1.0.3 ligo-segments-1.3.0 lscsoft-glue-2.0.0 mpld3-0.5.2 pyOpenSSL-20.0.1 pycbc-1.18.1\n"
          ],
          "name": "stdout"
        }
      ]
    },
    {
      "cell_type": "code",
      "metadata": {
        "id": "Pp4S7DpQe_yr",
        "colab": {
          "base_uri": "https://localhost:8080/"
        },
        "outputId": "6ee8e058-ceaa-450a-9cfd-24812069e97c"
      },
      "source": [
        "## packages ##\n",
        "\n",
        "import matplotlib\n",
        "%matplotlib inline\n",
        "import pylab\n",
        "import numpy as np\n",
        "import matplotlib.pyplot as plt\n",
        "from matplotlib import cm\n",
        "from math import pi\n",
        "from google.colab import files\n",
        "import lalsimulation\n",
        "import lal\n",
        "import pandas as pd\n",
        "\n",
        "#from google.colab import drive\n",
        "#drive.mount(\"/content/gdrive\")"
      ],
      "execution_count": 11,
      "outputs": [
        {
          "output_type": "stream",
          "text": [
            "Mounted at /content/gdrive\n"
          ],
          "name": "stdout"
        }
      ]
    },
    {
      "cell_type": "code",
      "metadata": {
        "id": "05hem2kvfTFH"
      },
      "source": [
        ""
      ],
      "execution_count": 6,
      "outputs": []
    },
    {
      "cell_type": "markdown",
      "metadata": {
        "id": "1llBqKKHwbKJ"
      },
      "source": [
        "# Equation of State: Upper mass limit checks\n",
        "This code is used to check the upper limits of each model."
      ]
    },
    {
      "cell_type": "code",
      "metadata": {
        "id": "eg6xva6IwldB"
      },
      "source": [
        "def EoS_MR_test (mass):\n",
        "    m_pass = []\n",
        "    m_fail = [] #mass\n",
        "    rad_pass = [] #radius\n",
        "    rad_fail =[]\n",
        "    eos_modelP = []\n",
        "    eos_modelF = []\n",
        "    lambda_result = []\n",
        "    i = 0    \n",
        "    eos_names = np.array(lalsimulation.SimNeutronStarEOSNames)\n",
        "\n",
        "    #for i in range (65):#\n",
        "    for i in range(len(eos_names)):\n",
        "\n",
        "            eos_int_ob = lalsimulation.SimNeutronStarEOSByName(eos_names[i])\n",
        "\n",
        "            eos_ob = lalsimulation.CreateSimNeutronStarFamily(eos_int_ob)\n",
        "            try:\n",
        "              love_num = lalsimulation.SimNeutronStarLoveNumberK2(mass * lal.MSUN_SI, eos_ob)\n",
        "            except:\n",
        "                r = 0\n",
        "                rad_fail.append(0)\n",
        "                m_fail.append(mass)\n",
        "                eos_modelF.append(eos_names[i])\n",
        "                #print('The following model has failed:',eos_names[i])\n",
        "\n",
        "            else:\n",
        "\n",
        "              r = lalsimulation.SimNeutronStarRadius(mass * lal.MSUN_SI, eos_ob)\n",
        "\n",
        "              rad_pass.append(r)\n",
        "              m_pass.append(mass)\n",
        "    \n",
        "              rescale_const = lal.G_SI * mass * lal.MSUN_SI / (lal.C_SI*lal.C_SI * r)\n",
        "              lamda = 2./3. * love_num * rescale_const**(-5.)\n",
        "     \n",
        "              eos_modelP.append(eos_names[i])\n",
        "              lambda_result.append(lamda)\n",
        "        \n",
        "        \n",
        "              i = i+1\n",
        "\n",
        "\n",
        "    return eos_modelP,m_pass,rad_pass,lambda_result,eos_modelF,m_fail"
      ],
      "execution_count": 12,
      "outputs": []
    },
    {
      "cell_type": "code",
      "metadata": {
        "colab": {
          "base_uri": "https://localhost:8080/",
          "height": 419
        },
        "id": "QD8KettnwmGf",
        "outputId": "ac14b03f-e502-46e8-80fb-e07919f533d5"
      },
      "source": [
        "result = EoS_MR_test(2.5) #change the mass value in the brackets to see how the number of valid EoS vary with mass\n",
        "\n",
        "eos_MVar = pd.DataFrame(result).T\n",
        "eos_MVar.columns=['Valid Model','Valid Mass','Valid Radius','Λ','Unsuitable Model','Unsuitable Mass']\n",
        "#eos_MVar.to_csv('EoS_mass3-2.csv')\n",
        "#files.download('EoS_mass3-2.csv')\n",
        "\n",
        "eos_MVar\n"
      ],
      "execution_count": 16,
      "outputs": [
        {
          "output_type": "execute_result",
          "data": {
            "text/html": [
              "<div>\n",
              "<style scoped>\n",
              "    .dataframe tbody tr th:only-of-type {\n",
              "        vertical-align: middle;\n",
              "    }\n",
              "\n",
              "    .dataframe tbody tr th {\n",
              "        vertical-align: top;\n",
              "    }\n",
              "\n",
              "    .dataframe thead th {\n",
              "        text-align: right;\n",
              "    }\n",
              "</style>\n",
              "<table border=\"1\" class=\"dataframe\">\n",
              "  <thead>\n",
              "    <tr style=\"text-align: right;\">\n",
              "      <th></th>\n",
              "      <th>Valid Model</th>\n",
              "      <th>Valid Mass</th>\n",
              "      <th>Valid Radius</th>\n",
              "      <th>Lambda</th>\n",
              "      <th>Unsuitable Model</th>\n",
              "      <th>Unsuitable Mass</th>\n",
              "    </tr>\n",
              "  </thead>\n",
              "  <tbody>\n",
              "    <tr>\n",
              "      <th>0</th>\n",
              "      <td>MS1B</td>\n",
              "      <td>2.5</td>\n",
              "      <td>14533.3</td>\n",
              "      <td>28.7486</td>\n",
              "      <td>ALF1</td>\n",
              "      <td>2.5</td>\n",
              "    </tr>\n",
              "    <tr>\n",
              "      <th>1</th>\n",
              "      <td>MS1B_PP</td>\n",
              "      <td>2.5</td>\n",
              "      <td>14255.2</td>\n",
              "      <td>23.0352</td>\n",
              "      <td>ALF2</td>\n",
              "      <td>2.5</td>\n",
              "    </tr>\n",
              "    <tr>\n",
              "      <th>2</th>\n",
              "      <td>MS1_PP</td>\n",
              "      <td>2.5</td>\n",
              "      <td>14415.5</td>\n",
              "      <td>23.9875</td>\n",
              "      <td>ALF3</td>\n",
              "      <td>2.5</td>\n",
              "    </tr>\n",
              "    <tr>\n",
              "      <th>3</th>\n",
              "      <td>MS1</td>\n",
              "      <td>2.5</td>\n",
              "      <td>14687.6</td>\n",
              "      <td>30.1252</td>\n",
              "      <td>ALF4</td>\n",
              "      <td>2.5</td>\n",
              "    </tr>\n",
              "    <tr>\n",
              "      <th>4</th>\n",
              "      <td>None</td>\n",
              "      <td>None</td>\n",
              "      <td>None</td>\n",
              "      <td>None</td>\n",
              "      <td>AP1</td>\n",
              "      <td>2.5</td>\n",
              "    </tr>\n",
              "    <tr>\n",
              "      <th>...</th>\n",
              "      <td>...</td>\n",
              "      <td>...</td>\n",
              "      <td>...</td>\n",
              "      <td>...</td>\n",
              "      <td>...</td>\n",
              "      <td>...</td>\n",
              "    </tr>\n",
              "    <tr>\n",
              "      <th>56</th>\n",
              "      <td>None</td>\n",
              "      <td>None</td>\n",
              "      <td>None</td>\n",
              "      <td>None</td>\n",
              "      <td>SKOP</td>\n",
              "      <td>2.5</td>\n",
              "    </tr>\n",
              "    <tr>\n",
              "      <th>57</th>\n",
              "      <td>None</td>\n",
              "      <td>None</td>\n",
              "      <td>None</td>\n",
              "      <td>None</td>\n",
              "      <td>SLY2</td>\n",
              "      <td>2.5</td>\n",
              "    </tr>\n",
              "    <tr>\n",
              "      <th>58</th>\n",
              "      <td>None</td>\n",
              "      <td>None</td>\n",
              "      <td>None</td>\n",
              "      <td>None</td>\n",
              "      <td>SLY230A</td>\n",
              "      <td>2.5</td>\n",
              "    </tr>\n",
              "    <tr>\n",
              "      <th>59</th>\n",
              "      <td>None</td>\n",
              "      <td>None</td>\n",
              "      <td>None</td>\n",
              "      <td>None</td>\n",
              "      <td>SLY9</td>\n",
              "      <td>2.5</td>\n",
              "    </tr>\n",
              "    <tr>\n",
              "      <th>60</th>\n",
              "      <td>None</td>\n",
              "      <td>None</td>\n",
              "      <td>None</td>\n",
              "      <td>None</td>\n",
              "      <td>HQC18</td>\n",
              "      <td>2.5</td>\n",
              "    </tr>\n",
              "  </tbody>\n",
              "</table>\n",
              "<p>61 rows × 6 columns</p>\n",
              "</div>"
            ],
            "text/plain": [
              "   Valid Model Valid Mass  ... Unsuitable Model Unsuitable Mass\n",
              "0         MS1B        2.5  ...             ALF1             2.5\n",
              "1      MS1B_PP        2.5  ...             ALF2             2.5\n",
              "2       MS1_PP        2.5  ...             ALF3             2.5\n",
              "3          MS1        2.5  ...             ALF4             2.5\n",
              "4         None       None  ...              AP1             2.5\n",
              "..         ...        ...  ...              ...             ...\n",
              "56        None       None  ...             SKOP             2.5\n",
              "57        None       None  ...             SLY2             2.5\n",
              "58        None       None  ...          SLY230A             2.5\n",
              "59        None       None  ...             SLY9             2.5\n",
              "60        None       None  ...            HQC18             2.5\n",
              "\n",
              "[61 rows x 6 columns]"
            ]
          },
          "metadata": {
            "tags": []
          },
          "execution_count": 16
        }
      ]
    },
    {
      "cell_type": "markdown",
      "metadata": {
        "id": "tQf9xH56fURu"
      },
      "source": [
        "# Equation of State Sorting\n",
        "\n",
        "In the function below, we aim to impose an upper and lower bound for tidal deformation, provided by the calculations carried out in the companion Jupyter notebook. Mass can be changed, and is currently set to GW170817 parameters."
      ]
    },
    {
      "cell_type": "code",
      "metadata": {
        "id": "RcH44c3KfUqp"
      },
      "source": [
        "def EoS_cleaning(mass,lower_bound,upper_bound):\n",
        "    lambda_result = []\n",
        "    eos_model = []\n",
        "    eos_suitable = []\n",
        "    eos_Notsuitable = [] \n",
        "    eos_NS_model = []\n",
        "\n",
        "    eos_names = np.array(lalsimulation.SimNeutronStarEOSNames)\n",
        "    \n",
        "    i = 0\n",
        "    for i in range (64):\n",
        "        if i != 18: \n",
        "            eos_int_ob = lalsimulation.SimNeutronStarEOSByName(eos_names[i])\n",
        "\n",
        "            eos_ob = lalsimulation.CreateSimNeutronStarFamily(eos_int_ob)\n",
        "   \n",
        "            love_num = lalsimulation.SimNeutronStarLoveNumberK2(mass * lal.MSUN_SI, eos_ob)\n",
        "            r = lalsimulation.SimNeutronStarRadius(mass * lal.MSUN_SI, eos_ob)\n",
        "    \n",
        "            rescale_const = lal.G_SI * mass * lal.MSUN_SI / (lal.C_SI*lal.C_SI * r)\n",
        "            lamda = 2./3. * love_num * rescale_const**(-5.)\n",
        "          \n",
        "            i = i+1\n",
        "        else:\n",
        "            pass\n",
        "\n",
        "        if lamda <lower_bound:    \n",
        "          eos_Notsuitable.append(lamda)\n",
        "          eos_NS_model.append(eos_names[i])\n",
        "        elif lamda <0:\n",
        "          eos_Notsuitable.append(lamda)\n",
        "          eos_NS_model.append(eos_names[i])\n",
        "        elif lamda >upper_bound:\n",
        "          eos_Notsuitable.append(lamda)\n",
        "          eos_NS_model.append(eos_names[i])\n",
        "        else:\n",
        "          lambda_result.append(lamda)\n",
        "          eos_model.append(eos_names[i])\n",
        "\n",
        "    return eos_model, lambda_result,eos_NS_model,eos_Notsuitable"
      ],
      "execution_count": 17,
      "outputs": []
    },
    {
      "cell_type": "code",
      "metadata": {
        "colab": {
          "base_uri": "https://localhost:8080/",
          "height": 419
        },
        "id": "qaznZwFWfbDL",
        "outputId": "43658152-4f00-4df1-85b2-403306fa4db1"
      },
      "source": [
        "eos_c = EoS_cleaning(1.36,0,30000)\n",
        "Suitable_EoS = pd.DataFrame(eos_c)\n",
        "Final = np.transpose(Suitable_EoS.head())\n",
        "Final.columns=['Suitable EoS','Λ','Unsuitable EoS','Unsuitable Λ']\n",
        "\n",
        "#Final.to_csv('GW170817_Radius.csv')\n",
        "#files.download('GW170817_Radius.csv')\n",
        "\n",
        "Final"
      ],
      "execution_count": 21,
      "outputs": [
        {
          "output_type": "execute_result",
          "data": {
            "text/html": [
              "<div>\n",
              "<style scoped>\n",
              "    .dataframe tbody tr th:only-of-type {\n",
              "        vertical-align: middle;\n",
              "    }\n",
              "\n",
              "    .dataframe tbody tr th {\n",
              "        vertical-align: top;\n",
              "    }\n",
              "\n",
              "    .dataframe thead th {\n",
              "        text-align: right;\n",
              "    }\n",
              "</style>\n",
              "<table border=\"1\" class=\"dataframe\">\n",
              "  <thead>\n",
              "    <tr style=\"text-align: right;\">\n",
              "      <th></th>\n",
              "      <th>Suitable EoS</th>\n",
              "      <th>Λ</th>\n",
              "      <th>Unsuitable EoS</th>\n",
              "      <th>Unsuitable Λ</th>\n",
              "    </tr>\n",
              "  </thead>\n",
              "  <tbody>\n",
              "    <tr>\n",
              "      <th>0</th>\n",
              "      <td>ALF2</td>\n",
              "      <td>119.1</td>\n",
              "      <td>SQM2</td>\n",
              "      <td>-168.77</td>\n",
              "    </tr>\n",
              "    <tr>\n",
              "      <th>1</th>\n",
              "      <td>ALF3</td>\n",
              "      <td>891.184</td>\n",
              "      <td>SQM3</td>\n",
              "      <td>-84.5916</td>\n",
              "    </tr>\n",
              "    <tr>\n",
              "      <th>2</th>\n",
              "      <td>ALF4</td>\n",
              "      <td>148.042</td>\n",
              "      <td>WFF1</td>\n",
              "      <td>-628.554</td>\n",
              "    </tr>\n",
              "    <tr>\n",
              "      <th>3</th>\n",
              "      <td>AP1</td>\n",
              "      <td>371.668</td>\n",
              "      <td>None</td>\n",
              "      <td>None</td>\n",
              "    </tr>\n",
              "    <tr>\n",
              "      <th>4</th>\n",
              "      <td>AP2</td>\n",
              "      <td>82.7205</td>\n",
              "      <td>None</td>\n",
              "      <td>None</td>\n",
              "    </tr>\n",
              "    <tr>\n",
              "      <th>...</th>\n",
              "      <td>...</td>\n",
              "      <td>...</td>\n",
              "      <td>...</td>\n",
              "      <td>...</td>\n",
              "    </tr>\n",
              "    <tr>\n",
              "      <th>56</th>\n",
              "      <td>SKOP</td>\n",
              "      <td>578.934</td>\n",
              "      <td>None</td>\n",
              "      <td>None</td>\n",
              "    </tr>\n",
              "    <tr>\n",
              "      <th>57</th>\n",
              "      <td>SLY2</td>\n",
              "      <td>443.108</td>\n",
              "      <td>None</td>\n",
              "      <td>None</td>\n",
              "    </tr>\n",
              "    <tr>\n",
              "      <th>58</th>\n",
              "      <td>SLY230A</td>\n",
              "      <td>376.071</td>\n",
              "      <td>None</td>\n",
              "      <td>None</td>\n",
              "    </tr>\n",
              "    <tr>\n",
              "      <th>59</th>\n",
              "      <td>SLY9</td>\n",
              "      <td>397.674</td>\n",
              "      <td>None</td>\n",
              "      <td>None</td>\n",
              "    </tr>\n",
              "    <tr>\n",
              "      <th>60</th>\n",
              "      <td>HQC18</td>\n",
              "      <td>540.462</td>\n",
              "      <td>None</td>\n",
              "      <td>None</td>\n",
              "    </tr>\n",
              "  </tbody>\n",
              "</table>\n",
              "<p>61 rows × 4 columns</p>\n",
              "</div>"
            ],
            "text/plain": [
              "   Suitable EoS        Λ Unsuitable EoS Unsuitable Λ\n",
              "0          ALF2    119.1           SQM2      -168.77\n",
              "1          ALF3  891.184           SQM3     -84.5916\n",
              "2          ALF4  148.042           WFF1     -628.554\n",
              "3           AP1  371.668           None         None\n",
              "4           AP2  82.7205           None         None\n",
              "..          ...      ...            ...          ...\n",
              "56         SKOP  578.934           None         None\n",
              "57         SLY2  443.108           None         None\n",
              "58      SLY230A  376.071           None         None\n",
              "59         SLY9  397.674           None         None\n",
              "60        HQC18  540.462           None         None\n",
              "\n",
              "[61 rows x 4 columns]"
            ]
          },
          "metadata": {
            "tags": []
          },
          "execution_count": 21
        }
      ]
    },
    {
      "cell_type": "code",
      "metadata": {
        "id": "eML2G8N3NVPQ"
      },
      "source": [
        "#Final.sort_values(by='Lambda', ascending=True, inplace=False, na_position='last')"
      ],
      "execution_count": null,
      "outputs": []
    },
    {
      "cell_type": "markdown",
      "metadata": {
        "id": "3gDTM1k4f90Q"
      },
      "source": [
        "# Equation of State: Mass & Radius\n",
        "The function calculates the mass and radius of a neutron star binary merger "
      ]
    },
    {
      "cell_type": "code",
      "metadata": {
        "id": "MEe93xfVf-N3"
      },
      "source": [
        "def EOS_mass_radius():\n",
        "    m_pass = []\n",
        "    m_fail = [] \n",
        "    rad_pass = [] \n",
        "    rad_fail =[]\n",
        "    eos_modelP = []\n",
        "    eos_modelF = []\n",
        "    lambda_result = []\n",
        "\n",
        "    eos_FM = {}\n",
        "    eos_PM = {}\n",
        "    eos_P = {}\n",
        "\n",
        "   \n",
        "    i = 0    \n",
        "    \n",
        "    eos_names = np.array(lalsimulation.SimNeutronStarEOSNames)\n",
        "    eos_TEST0={}\n",
        "    eos_TEST0['EOS'] =[]\n",
        "    eos_TEST0['Radii'] = []\n",
        "    eos_TEST0['Masses'] = []\n",
        "\n",
        "    \n",
        "    for mass in (1.,1.1,1.2,1.3,1.4,1.5,1.6,1.7,1.8,1.9,2.):\n",
        "    \n",
        "      for i in range (len(eos_names)):\n",
        "\n",
        "            eos_int_ob = lalsimulation.SimNeutronStarEOSByName(eos_names[i])\n",
        "            eos_ob = lalsimulation.CreateSimNeutronStarFamily(eos_int_ob)\n",
        "            \n",
        "\n",
        "            try:\n",
        "              love_num = lalsimulation.SimNeutronStarLoveNumberK2(mass * lal.MSUN_SI, eos_ob)\n",
        "            except:\n",
        "                eos_FM.update({eos_names[i]:mass})             \n",
        "                r = 0\n",
        "                rad_fail.append(0)\n",
        "                m_fail.append(mass)\n",
        "                eos_modelF.append(eos_names[i])\n",
        "\n",
        "\n",
        "            else:\n",
        "\n",
        "              r = lalsimulation.SimNeutronStarRadius(mass * lal.MSUN_SI, eos_ob)\n",
        "\n",
        "              rad_pass.append(r)\n",
        "              m_pass.append(mass)\n",
        "    \n",
        "              rescale_const = lal.G_SI * mass * lal.MSUN_SI / (lal.C_SI*lal.C_SI * r)\n",
        "              lamda = 2./3. * love_num * rescale_const**(-5.)\n",
        "     \n",
        "              eos_modelP.append(eos_names[i])\n",
        "              lambda_result.append(lamda)\n",
        "\n",
        "                               \n",
        "              eos_TEST0['EOS'].append(eos_names[i])\n",
        "              eos_TEST0['Masses'].append(mass)\n",
        "              eos_TEST0['Radii'].append(r)\n",
        "\n",
        "              i = i+1\n",
        "\n",
        "              \n",
        "\n",
        "    return eos_TEST0"
      ],
      "execution_count": null,
      "outputs": []
    },
    {
      "cell_type": "code",
      "metadata": {
        "id": "QDlyPc2LgKer"
      },
      "source": [
        "output = EOS_mass_radius()"
      ],
      "execution_count": null,
      "outputs": []
    },
    {
      "cell_type": "code",
      "metadata": {
        "colab": {
          "base_uri": "https://localhost:8080/",
          "height": 337
        },
        "id": "I2pVMWOcfi7S",
        "outputId": "d08c905e-fcc8-4f01-ce10-c91ec7b82664"
      },
      "source": [
        "eos_rad = [output.get('EOS'),output.get('Radii')]\n",
        "eos_mas = [output.get('EOS'),output.get('Masses')]\n",
        "mas = eos_mas[1]\n",
        "rad = eos_rad[1]\n",
        "eos_e = eos_rad[0]\n",
        "\n",
        "f = plt.figure()\n",
        "f.set_figwidth(13)\n",
        "\n",
        "for i in range(617):\n",
        " \n",
        "  if mas[i] ==1.3:\n",
        "    plt.scatter(eos_e[i],rad[i],s=10,c='orange')\n",
        "  else:\n",
        "    plt.scatter(eos_e[i],rad[i],s=10,c='black',alpha=0.25)\n",
        "      \n",
        "  \n",
        "plt.xticks(rotation='vertical')\n",
        "plt.ylabel('Radius/m')\n",
        "plt.xlabel('EoS Models')\n",
        "plt.title('EoS vs Radius for 1<Solar Mass<2')\n",
        "plt.show()"
      ],
      "execution_count": null,
      "outputs": [
        {
          "output_type": "display_data",
          "data": {
            "image/png": "[encoded data removed]",
            "text/plain": [
              "<Figure size 936x288 with 1 Axes>"
            ]
          },
          "metadata": {
            "tags": [],
            "needs_background": "light"
          }
        }
      ]
    },
    {
      "cell_type": "markdown",
      "metadata": {
        "id": "uaTJQmzAgK-n"
      },
      "source": [
        "# Equation of State: Mass & Lambda\n",
        "The function calculates the mass and lambda of a neutron star binary merger"
      ]
    },
    {
      "cell_type": "code",
      "metadata": {
        "id": "Ggz1vV1agLTE"
      },
      "source": [
        "def EOS_mass_lambda():\n",
        "    m_pass = []\n",
        "    m_fail = [] \n",
        "    rad_pass = [] \n",
        "    rad_fail =[]\n",
        "    eos_modelP = []\n",
        "    eos_modelF = []\n",
        "    lambda_result = []\n",
        "   # eos_FR = {}\n",
        "    eos_FM = {}\n",
        "    eos_PM = {}\n",
        "    eos_P = {}\n",
        "   # eos_TEST0 = {}\n",
        "   \n",
        "    i = 0    \n",
        "    \n",
        "    eos_names = np.array(lalsimulation.SimNeutronStarEOSNames)\n",
        "    eos_TEST0={}\n",
        "    eos_TEST0['EOS'] =[]\n",
        "    eos_TEST0['Masses'] = []\n",
        "    eos_TEST0['Lambda'] = []\n",
        "    \n",
        "    for mass in (1.,1.1,1.2,1.3,1.4,1.5,1.6,1.7,1.8,1.9,2.):\n",
        "    \n",
        "      for i in range (len(eos_names)):\n",
        "\n",
        "            eos_int_ob = lalsimulation.SimNeutronStarEOSByName(eos_names[i])\n",
        "            eos_ob = lalsimulation.CreateSimNeutronStarFamily(eos_int_ob)\n",
        "            \n",
        "\n",
        "            try:\n",
        "              love_num = lalsimulation.SimNeutronStarLoveNumberK2(mass * lal.MSUN_SI, eos_ob)\n",
        "            except:\n",
        "                eos_FM.update({eos_names[i]:mass})             \n",
        "                r = 0\n",
        "                rad_fail.append(0)\n",
        "                m_fail.append(mass)\n",
        "                eos_modelF.append(eos_names[i])\n",
        "\n",
        "            else:\n",
        "\n",
        "              r = lalsimulation.SimNeutronStarRadius(mass * lal.MSUN_SI, eos_ob)\n",
        "\n",
        "              rad_pass.append(r)\n",
        "              m_pass.append(mass)\n",
        "    \n",
        "              rescale_const = lal.G_SI * mass * lal.MSUN_SI / (lal.C_SI*lal.C_SI * r)\n",
        "              lamda = 2./3. * love_num * rescale_const**(-5.)\n",
        "     \n",
        "              eos_modelP.append(eos_names[i])\n",
        "              lambda_result.append(lamda)\n",
        "\n",
        "                               \n",
        "              eos_TEST0['EOS'].append(eos_names[i])\n",
        "              eos_TEST0['Masses'].append(mass)\n",
        "              #eos_TEST0['Radii'].append(r)\n",
        "              eos_TEST0['Lambda'].append(lamda)\n",
        "\n",
        "              i = i+1\n",
        "\n",
        "              \n",
        "\n",
        "    return eos_TEST0"
      ],
      "execution_count": null,
      "outputs": []
    },
    {
      "cell_type": "code",
      "metadata": {
        "colab": {
          "base_uri": "https://localhost:8080/",
          "height": 337
        },
        "id": "8vFGeILAxNCO",
        "outputId": "551a257a-1d0e-432c-dab7-054812ceb447"
      },
      "source": [
        "out = EOS_mass_lambda()\n",
        "\n",
        "eos_lam = [out.get('EOS'),out.get('Lambda')]\n",
        "lam = eos_lam[1]\n",
        "eos_e = eos_lam[0]\n",
        "\n",
        "f = plt.figure()\n",
        "f.set_figwidth(13)\n",
        "for i in range(617):\n",
        "  if mas[i] ==1.3:\n",
        "    plt.scatter(eos_e[i],lam[i],s=10,c='orange')\n",
        "  else:\n",
        "    plt.scatter(eos_e[i],lam[i],s=10,c='black',alpha=0.25)\n",
        "plt.xticks(rotation='vertical')\n",
        "plt.ylabel('Lambda')\n",
        "plt.ylim(0)\n",
        "plt.xlabel('EoS Models')\n",
        "plt.title('EoS vs Lambda for 1<Solar Mass<2')\n",
        "plt.show()"
      ],
      "execution_count": null,
      "outputs": [
        {
          "output_type": "display_data",
          "data": {
            "image/png": "[encoded data removed]",
            "text/plain": [
              "<Figure size 936x288 with 1 Axes>"
            ]
          },
          "metadata": {
            "tags": [],
            "needs_background": "light"
          }
        }
      ]
    },
    {
      "cell_type": "code",
      "metadata": {
        "id": "BsJmgfGwxNX4"
      },
      "source": [
        ""
      ],
      "execution_count": null,
      "outputs": []
    }
  ]
}