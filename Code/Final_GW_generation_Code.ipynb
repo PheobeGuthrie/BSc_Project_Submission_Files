{
 "cells": [
  {
   "cell_type": "code",
   "execution_count": 365,
   "metadata": {},
   "outputs": [
    {
     "name": "stdout",
     "output_type": "stream",
     "text": [
      "Requirement already satisfied: pycbc in ./.local/lib/python3.7/site-packages (1.18.0)\n",
      "Requirement already satisfied: lalsuite in ./.local/lib/python3.7/site-packages (6.82)\n",
      "Requirement already satisfied: ligo-common in ./.local/lib/python3.7/site-packages (1.0.3)\n",
      "Requirement already satisfied: tqdm in /cvmfs/oasis.opensciencegrid.org/ligo/deploy/sw/conda/envs/igwn-py37-20210512/lib/python3.7/site-packages (from pycbc) (4.45.0)\n",
      "Requirement already satisfied: mpld3>=0.3 in ./.local/lib/python3.7/site-packages (from pycbc) (0.5.2)\n",
      "Requirement already satisfied: gwdatafind in ./.local/lib/python3.7/site-packages (from pycbc) (1.0.4)\n",
      "Requirement already satisfied: h5py>=2.5 in ./.local/lib/python3.7/site-packages (from pycbc) (3.2.1)\n",
      "Requirement already satisfied: astropy>=2.0.3; python_version > \"3.0\" in ./.local/lib/python3.7/site-packages (from pycbc) (4.2.1)\n",
      "Requirement already satisfied: jinja2 in /cvmfs/oasis.opensciencegrid.org/ligo/deploy/sw/conda/envs/igwn-py37-20210512/lib/python3.7/site-packages (from pycbc) (2.10.3)\n",
      "Requirement already satisfied: numpy>=1.16.0 in ./.local/lib/python3.7/site-packages (from pycbc) (1.20.2)\n",
      "Requirement already satisfied: ligo-segments in ./.local/lib/python3.7/site-packages (from pycbc) (1.3.0)\n",
      "Requirement already satisfied: scipy>=0.16.0; python_version >= \"3.5\" in ./.local/lib/python3.7/site-packages (from pycbc) (1.6.2)\n",
      "Requirement already satisfied: decorator>=3.4.2 in /cvmfs/oasis.opensciencegrid.org/ligo/deploy/sw/conda/envs/igwn-py37-20210512/lib/python3.7/site-packages (from pycbc) (5.0.7)\n",
      "Requirement already satisfied: requests>=1.2.1 in /cvmfs/oasis.opensciencegrid.org/ligo/deploy/sw/conda/envs/igwn-py37-20210512/lib/python3.7/site-packages (from pycbc) (2.22.0)\n",
      "Requirement already satisfied: six>=1.10.0 in /cvmfs/oasis.opensciencegrid.org/ligo/deploy/sw/conda/envs/igwn-py37-20210512/lib/python3.7/site-packages (from pycbc) (1.15.0)\n",
      "Requirement already satisfied: matplotlib>=1.5.1 in ./.local/lib/python3.7/site-packages (from pycbc) (3.4.1)\n",
      "Requirement already satisfied: cython>=0.29 in ./.local/lib/python3.7/site-packages (from pycbc) (0.29.23)\n",
      "Requirement already satisfied: lscsoft-glue>=1.59.3 in ./.local/lib/python3.7/site-packages (from pycbc) (2.0.0)\n",
      "Requirement already satisfied: Mako>=1.0.1 in /cvmfs/oasis.opensciencegrid.org/ligo/deploy/sw/conda/envs/igwn-py37-20210512/lib/python3.7/site-packages (from pycbc) (1.1.4)\n",
      "Requirement already satisfied: beautifulsoup4>=4.6.0 in ./.local/lib/python3.7/site-packages (from pycbc) (4.9.3)\n",
      "Requirement already satisfied: pillow in ./.local/lib/python3.7/site-packages (from pycbc) (8.2.0)\n",
      "Requirement already satisfied: python-dateutil in /cvmfs/oasis.opensciencegrid.org/ligo/deploy/sw/conda/envs/igwn-py37-20210512/lib/python3.7/site-packages (from lalsuite) (2.8.1)\n",
      "Requirement already satisfied: pyOpenSSL in /cvmfs/oasis.opensciencegrid.org/ligo/deploy/sw/conda/envs/igwn-py37-20210512/lib/python3.7/site-packages (from gwdatafind->pycbc) (19.1.0)\n",
      "Requirement already satisfied: cached-property; python_version < \"3.8\" in ./.local/lib/python3.7/site-packages (from h5py>=2.5->pycbc) (1.5.2)\n",
      "Requirement already satisfied: pyerfa in ./.local/lib/python3.7/site-packages (from astropy>=2.0.3; python_version > \"3.0\"->pycbc) (1.7.2)\n",
      "Requirement already satisfied: MarkupSafe>=0.23 in /cvmfs/oasis.opensciencegrid.org/ligo/deploy/sw/conda/envs/igwn-py37-20210512/lib/python3.7/site-packages (from jinja2->pycbc) (1.1.1)\n",
      "Requirement already satisfied: idna<2.9,>=2.5 in /cvmfs/oasis.opensciencegrid.org/ligo/deploy/sw/conda/envs/igwn-py37-20210512/lib/python3.7/site-packages (from requests>=1.2.1->pycbc) (2.8)\n",
      "Requirement already satisfied: certifi>=2017.4.17 in /cvmfs/oasis.opensciencegrid.org/ligo/deploy/sw/conda/envs/igwn-py37-20210512/lib/python3.7/site-packages (from requests>=1.2.1->pycbc) (2020.12.5)\n",
      "Requirement already satisfied: chardet<3.1.0,>=3.0.2 in /cvmfs/oasis.opensciencegrid.org/ligo/deploy/sw/conda/envs/igwn-py37-20210512/lib/python3.7/site-packages (from requests>=1.2.1->pycbc) (3.0.4)\n",
      "Requirement already satisfied: urllib3!=1.25.0,!=1.25.1,<1.26,>=1.21.1 in /cvmfs/oasis.opensciencegrid.org/ligo/deploy/sw/conda/envs/igwn-py37-20210512/lib/python3.7/site-packages (from requests>=1.2.1->pycbc) (1.25.8)\n",
      "Requirement already satisfied: kiwisolver>=1.0.1 in ./.local/lib/python3.7/site-packages (from matplotlib>=1.5.1->pycbc) (1.3.1)\n",
      "Requirement already satisfied: pyparsing>=2.2.1 in ./.local/lib/python3.7/site-packages (from matplotlib>=1.5.1->pycbc) (2.4.7)\n",
      "Requirement already satisfied: cycler>=0.10 in ./.local/lib/python3.7/site-packages (from matplotlib>=1.5.1->pycbc) (0.10.0)\n",
      "Requirement already satisfied: soupsieve>1.2; python_version >= \"3.0\" in ./.local/lib/python3.7/site-packages (from beautifulsoup4>=4.6.0->pycbc) (2.2.1)\n",
      "Requirement already satisfied: cryptography>=2.8 in /cvmfs/oasis.opensciencegrid.org/ligo/deploy/sw/conda/envs/igwn-py37-20210512/lib/python3.7/site-packages (from pyOpenSSL->gwdatafind->pycbc) (3.3.1)\n",
      "Requirement already satisfied: cffi>=1.12 in /cvmfs/oasis.opensciencegrid.org/ligo/deploy/sw/conda/envs/igwn-py37-20210512/lib/python3.7/site-packages (from cryptography>=2.8->pyOpenSSL->gwdatafind->pycbc) (1.14.5)\n",
      "Requirement already satisfied: pycparser in /cvmfs/oasis.opensciencegrid.org/ligo/deploy/sw/conda/envs/igwn-py37-20210512/lib/python3.7/site-packages (from cffi>=1.12->cryptography>=2.8->pyOpenSSL->gwdatafind->pycbc) (2.20)\n"
     ]
    }
   ],
   "source": [
    "import sys\n",
    "!{sys.executable} -m pip install pycbc lalsuite ligo-common --no-cache-dir"
   ]
  },
  {
   "cell_type": "code",
   "execution_count": 366,
   "metadata": {},
   "outputs": [],
   "source": [
    "## all required packages can go in this cell ##\n",
    "import matplotlib\n",
    "%matplotlib inline\n",
    "\n",
    "from pycbc.waveform import get_td_waveform, td_approximants, fd_approximants, get_fd_waveform\n",
    "import pylab\n",
    "from pycbc import types, fft,waveform, filter,noise\n",
    "import numpy as np\n",
    "import matplotlib.pyplot as plt\n",
    "from matplotlib import cm\n",
    "#from matplotlib.widgets import Slider, Button\n",
    "from pycbc.psd import interpolate, inverse_spectrum_truncation, welch\n",
    "from pycbc.filter import matched_filter\n",
    "#from ipywidgets import interact, interact_manual\n",
    "from pycbc import psd\n",
    "from pycbc.filter import resample_to_delta_t, highpass\n",
    "import pycbc.psd, pycbc.noise\n",
    "import pylab\n",
    "from math import pi\n",
    "#states no module #import pandas as pd\n",
    "\n",
    "from pycbc.detector import Detector\n",
    "\n",
    "import decimal\n",
    "\n",
    "\n",
    "import lalsimulation\n",
    "\n",
    "import lal\n",
    "import pandas as pd"
   ]
  },
  {
   "cell_type": "code",
   "execution_count": null,
   "metadata": {},
   "outputs": [],
   "source": []
  },
  {
   "cell_type": "code",
   "execution_count": 367,
   "metadata": {},
   "outputs": [],
   "source": [
    "#Citation; Ian Harry, University of Portsmouth ICG #\n",
    "\n",
    "from pycbc.filter.matchedfilter import make_frequency_series, matched_filter_core, zeros\n",
    "from pycbc.filter.matchedfilter import sigmasq, complex_same_precision_as, sqrt\n",
    "\n",
    "_snr = None\n",
    "def match(vec1, vec2, psd=None, low_frequency_cutoff=None,\n",
    "          high_frequency_cutoff=None, v1_norm=None, v2_norm=None):\n",
    "    \"\"\" Return the match between the two TimeSeries or FrequencySeries.\n",
    "    Return the match between two waveforms. This is equivalent to the overlap\n",
    "    maximized over time and phase.\n",
    "    Parameters\n",
    "    ----------\n",
    "    vec1 : TimeSeries or FrequencySeries\n",
    "        The input vector containing a waveform.\n",
    "    vec2 : TimeSeries or FrequencySeries\n",
    "        The input vector containing a waveform.\n",
    "    psd : Frequency Series\n",
    "        A power spectral density to weight the overlap.\n",
    "    low_frequency_cutoff : {None, float}, optional\n",
    "        The frequency to begin the match.\n",
    "    high_frequency_cutoff : {None, float}, optional\n",
    "        The frequency to stop the match.\n",
    "    v1_norm : {None, float}, optional\n",
    "        The normalization of the first waveform. This is equivalent to its\n",
    "        sigmasq value. If None, it is internally calculated.\n",
    "    v2_norm : {None, float}, optional\n",
    "        The normalization of the second waveform. This is equivalent to its\n",
    "        sigmasq value. If None, it is internally calculated.\n",
    "    Returns\n",
    "    -------\n",
    "    match: float\n",
    "    index: int\n",
    "        The number of samples to shift to get the match.\n",
    "    \"\"\"\n",
    "\n",
    "    htilde = make_frequency_series(vec1)\n",
    "    stilde = make_frequency_series(vec2)\n",
    "\n",
    "    N = (len(htilde)-1) * 2\n",
    "\n",
    "    global _snr\n",
    "    if _snr is None or _snr.dtype != htilde.dtype or len(_snr) != N:\n",
    "        _snr = zeros(N,dtype=complex_same_precision_as(vec1))\n",
    "    snr, _, snr_norm = matched_filter_core(htilde,stilde,psd,low_frequency_cutoff,\n",
    "                             high_frequency_cutoff, v1_norm, out=_snr)\n",
    "    maxsnr, max_id = snr.abs_max_loc()\n",
    "    if max_id == 0:\n",
    "        left = abs(snr[-1])\n",
    "    else:\n",
    "        left = abs(snr[max_id - 1])\n",
    "    middle = maxsnr\n",
    "    if max_id == len(snr) - 1:\n",
    "        right = abs(snr[0])\n",
    "    else:\n",
    "        right = abs(snr[max_id + 1])\n",
    "   \n",
    "    def quadratic_interpolate_peak2(ym1, y, yp1):\n",
    "        dy = 0.5 * (yp1 - ym1);\n",
    "        d2y = 2. * y - ym1 - yp1;\n",
    "        return y + 0.5 * dy * dy / d2y;\n",
    "\n",
    "       \n",
    "    if v2_norm is None:\n",
    "        v2_norm = sigmasq(stilde, psd, low_frequency_cutoff, high_frequency_cutoff)\n",
    "\n",
    "    peak_value = quadratic_interpolate_peak2(left, middle, right)\n",
    "\n",
    "    return peak_value * snr_norm / sqrt(v2_norm), max_id"
   ]
  },
  {
   "cell_type": "code",
   "execution_count": null,
   "metadata": {},
   "outputs": [],
   "source": []
  },
  {
   "cell_type": "code",
   "execution_count": 369,
   "metadata": {},
   "outputs": [],
   "source": [
    "i = 0\n",
    "Tidal_Deformation = 0\n",
    "a = [] #overlap \n",
    "b = [] #tidal deform\n",
    "c = [] #SNR\n",
    "\n",
    "e = [] #overlap ET \n",
    "f = [] #SNR\n",
    "\n",
    "h = [] #overlap CE\n",
    "k = [] #SNR\n",
    "\n",
    "end_time =  1187008882.4  \n",
    "declination = 0.2617993878 \n",
    "right_ascension = 0.03490658504   \n",
    "polarization = 1 \n",
    "\n",
    "det_h1 = Detector('H1')\n",
    "det_l1 = Detector('L1')\n",
    "\n",
    "for i in range(101):\n",
    "    hp, hc = get_fd_waveform(approximant='TaylorF2',\n",
    "                         mass1 = 1.36, \n",
    "                         mass2 = 1.36,\n",
    "                         delta_f= 1/128, \n",
    "                         lambda1= Tidal_Deformation,\n",
    "                         lambda2 = Tidal_Deformation,\n",
    "                         inclination = pi/2 ,\n",
    "                         coa_phase = 1,   \n",
    "                         distance = 40, #plus 8 minus 14 accuracy\n",
    "                         f_lower=10)\n",
    "      \n",
    "    tp, tc = get_fd_waveform(approximant='TaylorF2',\n",
    "                         mass1 = 1.36,\n",
    "                         mass2 = 1.36,\n",
    "                         delta_f= 1/128,\n",
    "                         lambda1= 0,\n",
    "                         lambda2 = 0,\n",
    "                         inclination = pi/2 ,\n",
    "                         coa_phase = 1,  \n",
    "                         distance = 40, #plus 8 minus 14 accuracy\n",
    "                         f_lower=10)\n",
    "\n",
    "\n",
    "    sig_h1_h = det_h1.project_wave(hp,hc,right_ascension,declination,polarization,method='constant',reference_time=end_time)\n",
    "    sig_h1_t = det_h1.project_wave(tp,tc,right_ascension,declination,polarization,method='constant',reference_time=end_time)\n",
    "    \n",
    "    flow = 1.0\n",
    "    delta_f = 1/128 \n",
    "\n",
    "    max_len = 128 *16384             # max(len(tp),len(hp))\n",
    "    sig_h1_h.resize(max_len) #checks\n",
    "    sig_h1_t.resize(max_len)\n",
    "    flen = max_len       \n",
    "\n",
    "    psd_AL = pycbc.psd.aLIGOZeroDetHighPower(flen, delta_f, flow)  \n",
    "    psd_ET = pycbc.psd.EinsteinTelescopeP1600143(flen, delta_f, flow)  \n",
    "    psd_CE = pycbc.psd.CosmicExplorerP1600143(flen, delta_f, flow)\n",
    "    \n",
    "    Overlap_AL = match(sig_h1_h,sig_h1_t,psd=psd_AL,low_frequency_cutoff=15)\n",
    "    Overlap_ET = match(sig_h1_h,sig_h1_t,psd=psd_ET,low_frequency_cutoff=15)\n",
    "    Overlap_CE = match(sig_h1_h,sig_h1_t,psd=psd_CE,low_frequency_cutoff=15)\n",
    "\n",
    "    sigmaVar_AL = pycbc.filter.sigma(hp,psd=psd_AL,low_frequency_cutoff=15)\n",
    "    sigmaVar_ET = pycbc.filter.sigma(hp,psd=psd_ET,low_frequency_cutoff=15)\n",
    "    sigmaVar_CE = pycbc.filter.sigma(hp,psd=psd_CE,low_frequency_cutoff=15)\n",
    "\n",
    "    c.append(sigmaVar_AL)\n",
    "    f.append(sigmaVar_ET)\n",
    "    k.append(sigmaVar_CE)\n",
    "\n",
    "    a.append(Overlap_AL[0])\n",
    "    b.append(Tidal_Deformation)\n",
    "    e.append(Overlap_ET[0])\n",
    "    h.append(Overlap_CE[0])\n",
    "    \n",
    "    i = i+1\n",
    "    Tidal_Deformation = Tidal_Deformation+10"
   ]
  },
  {
   "cell_type": "code",
   "execution_count": 370,
   "metadata": {},
   "outputs": [],
   "source": [
    "d = []\n",
    "g = []\n",
    "l = []\n",
    "\n",
    "for A,C in zip(a,c): #aLIGO\n",
    "  d.append(A*C) \n",
    "\n",
    "for E,F in zip(e,f): #ET\n",
    "  g.append(E*F) \n",
    "\n",
    "for H,K in zip(h,k): #CE\n",
    "  l.append(H*K) "
   ]
  },
  {
   "cell_type": "code",
   "execution_count": 371,
   "metadata": {},
   "outputs": [
    {
     "name": "stdout",
     "output_type": "stream",
     "text": [
      "43.462585376578275\n",
      "466.14371331194224\n",
      "1704.262271569979\n"
     ]
    }
   ],
   "source": [
    "print(max(c))\n",
    "print(max(f))\n",
    "print(max(k))"
   ]
  },
  {
   "cell_type": "code",
   "execution_count": 372,
   "metadata": {},
   "outputs": [],
   "source": [
    "# subtract maximum SNR to get SNR loss\n",
    "\n",
    "aL_SNRLoss = d-d[0]\n",
    "ET_SNRLoss = g-g[0]\n",
    "CE_SNRLoss = l-l[0]"
   ]
  },
  {
   "cell_type": "code",
   "execution_count": 373,
   "metadata": {},
   "outputs": [
    {
     "data": {
      "image/png": "[encoded data removed]",
      "text/plain": [
       "<Figure size 432x288 with 2 Axes>"
      ]
     },
     "metadata": {
      "needs_background": "light"
     },
     "output_type": "display_data"
    }
   ],
   "source": [
    "plt.subplot(2,1,1)\n",
    "plt.title('SNR Loss vs Λ Uncertainty')\n",
    "\n",
    "plt.plot(b,aL_SNRLoss,label='aLIGO',color = 'green')\n",
    "plt.xlabel('Λ uncertainty')\n",
    "plt.ylabel('SNR Loss')\n",
    "plt.legend()\n",
    "plt.ylim(-1,0) #change\n",
    "plt.xlim(0,840)\n",
    "plt.grid()\n",
    "\n",
    "plt.subplot(2,1,2)\n",
    "plt.plot(b,ET_SNRLoss,label='Einstein Telescope')\n",
    "plt.plot(b,CE_SNRLoss,label='Cosmic Explorer')\n",
    "plt.xlabel('Λ uncertainty') ##\n",
    "plt.ylabel('SNR Loss')\n",
    "plt.ylim(-1,0) #change\n",
    "plt.xlim(0,150)\n",
    "plt.legend()\n",
    "plt.grid()"
   ]
  },
  {
   "cell_type": "code",
   "execution_count": 329,
   "metadata": {},
   "outputs": [],
   "source": [
    "aL_df = pd.DataFrame(aL_SNRLoss)\n",
    "aL_df.to_csv('aLIGO_DS1')\n",
    "\n",
    "ET_df = pd.DataFrame(ET_SNRLoss)\n",
    "ET_df.to_csv('ET_DS1')\n",
    "\n",
    "CE_df = pd.DataFrame(CE_SNRLoss)\n",
    "CE_df.to_csv('CE_DS1')"
   ]
  },
  {
   "cell_type": "code",
   "execution_count": null,
   "metadata": {},
   "outputs": [],
   "source": []
  },
  {
   "cell_type": "code",
   "execution_count": null,
   "metadata": {},
   "outputs": [],
   "source": []
  },
  {
   "cell_type": "code",
   "execution_count": null,
   "metadata": {},
   "outputs": [],
   "source": []
  },
  {
   "cell_type": "code",
   "execution_count": 349,
   "metadata": {},
   "outputs": [],
   "source": []
  },
  {
   "cell_type": "code",
   "execution_count": 350,
   "metadata": {},
   "outputs": [],
   "source": []
  },
  {
   "cell_type": "code",
   "execution_count": null,
   "metadata": {},
   "outputs": [],
   "source": []
  },
  {
   "cell_type": "code",
   "execution_count": null,
   "metadata": {},
   "outputs": [],
   "source": []
  },
  {
   "cell_type": "code",
   "execution_count": null,
   "metadata": {},
   "outputs": [],
   "source": []
  },
  {
   "cell_type": "code",
   "execution_count": null,
   "metadata": {},
   "outputs": [],
   "source": []
  },
  {
   "cell_type": "code",
   "execution_count": null,
   "metadata": {},
   "outputs": [],
   "source": []
  },
  {
   "cell_type": "code",
   "execution_count": null,
   "metadata": {},
   "outputs": [],
   "source": []
  },
  {
   "cell_type": "code",
   "execution_count": null,
   "metadata": {},
   "outputs": [],
   "source": []
  },
  {
   "cell_type": "code",
   "execution_count": null,
   "metadata": {},
   "outputs": [],
   "source": []
  },
  {
   "cell_type": "code",
   "execution_count": null,
   "metadata": {},
   "outputs": [],
   "source": []
  },
  {
   "cell_type": "code",
   "execution_count": null,
   "metadata": {},
   "outputs": [],
   "source": []
  },
  {
   "cell_type": "code",
   "execution_count": null,
   "metadata": {},
   "outputs": [],
   "source": []
  },
  {
   "cell_type": "code",
   "execution_count": 32,
   "metadata": {},
   "outputs": [],
   "source": []
  },
  {
   "cell_type": "code",
   "execution_count": null,
   "metadata": {},
   "outputs": [],
   "source": [
    "\n"
   ]
  },
  {
   "cell_type": "code",
   "execution_count": null,
   "metadata": {},
   "outputs": [],
   "source": []
  },
  {
   "cell_type": "code",
   "execution_count": null,
   "metadata": {},
   "outputs": [],
   "source": []
  },
  {
   "cell_type": "code",
   "execution_count": null,
   "metadata": {},
   "outputs": [],
   "source": []
  },
  {
   "cell_type": "code",
   "execution_count": null,
   "metadata": {},
   "outputs": [],
   "source": []
  },
  {
   "cell_type": "code",
   "execution_count": null,
   "metadata": {},
   "outputs": [],
   "source": []
  },
  {
   "cell_type": "code",
   "execution_count": null,
   "metadata": {},
   "outputs": [],
   "source": [
    " "
   ]
  },
  {
   "cell_type": "code",
   "execution_count": null,
   "metadata": {},
   "outputs": [],
   "source": []
  },
  {
   "cell_type": "code",
   "execution_count": null,
   "metadata": {},
   "outputs": [],
   "source": []
  },
  {
   "cell_type": "code",
   "execution_count": null,
   "metadata": {},
   "outputs": [],
   "source": []
  },
  {
   "cell_type": "code",
   "execution_count": null,
   "metadata": {},
   "outputs": [],
   "source": []
  },
  {
   "cell_type": "code",
   "execution_count": null,
   "metadata": {},
   "outputs": [],
   "source": []
  },
  {
   "cell_type": "code",
   "execution_count": null,
   "metadata": {},
   "outputs": [],
   "source": []
  },
  {
   "cell_type": "code",
   "execution_count": null,
   "metadata": {},
   "outputs": [],
   "source": []
  },
  {
   "cell_type": "code",
   "execution_count": null,
   "metadata": {},
   "outputs": [],
   "source": []
  },
  {
   "cell_type": "code",
   "execution_count": null,
   "metadata": {},
   "outputs": [],
   "source": []
  },
  {
   "cell_type": "code",
   "execution_count": null,
   "metadata": {},
   "outputs": [],
   "source": []
  },
  {
   "cell_type": "code",
   "execution_count": null,
   "metadata": {},
   "outputs": [],
   "source": []
  },
  {
   "cell_type": "code",
   "execution_count": 5,
   "metadata": {},
   "outputs": [],
   "source": []
  },
  {
   "cell_type": "code",
   "execution_count": null,
   "metadata": {},
   "outputs": [],
   "source": []
  },
  {
   "cell_type": "code",
   "execution_count": null,
   "metadata": {},
   "outputs": [],
   "source": []
  },
  {
   "cell_type": "code",
   "execution_count": null,
   "metadata": {},
   "outputs": [],
   "source": []
  },
  {
   "cell_type": "code",
   "execution_count": null,
   "metadata": {},
   "outputs": [],
   "source": []
  },
  {
   "cell_type": "code",
   "execution_count": null,
   "metadata": {},
   "outputs": [],
   "source": []
  },
  {
   "cell_type": "code",
   "execution_count": null,
   "metadata": {},
   "outputs": [],
   "source": []
  },
  {
   "cell_type": "code",
   "execution_count": null,
   "metadata": {},
   "outputs": [],
   "source": []
  },
  {
   "cell_type": "code",
   "execution_count": null,
   "metadata": {},
   "outputs": [],
   "source": []
  },
  {
   "cell_type": "code",
   "execution_count": null,
   "metadata": {},
   "outputs": [],
   "source": [
    "\n",
    "\n"
   ]
  },
  {
   "cell_type": "code",
   "execution_count": null,
   "metadata": {},
   "outputs": [],
   "source": []
  },
  {
   "cell_type": "code",
   "execution_count": null,
   "metadata": {},
   "outputs": [],
   "source": []
  },
  {
   "cell_type": "code",
   "execution_count": null,
   "metadata": {},
   "outputs": [],
   "source": []
  },
  {
   "cell_type": "code",
   "execution_count": null,
   "metadata": {},
   "outputs": [],
   "source": []
  },
  {
   "cell_type": "code",
   "execution_count": 69,
   "metadata": {},
   "outputs": [],
   "source": []
  },
  {
   "cell_type": "code",
   "execution_count": 70,
   "metadata": {},
   "outputs": [],
   "source": []
  },
  {
   "cell_type": "code",
   "execution_count": 71,
   "metadata": {},
   "outputs": [],
   "source": []
  },
  {
   "cell_type": "code",
   "execution_count": null,
   "metadata": {},
   "outputs": [],
   "source": []
  },
  {
   "cell_type": "code",
   "execution_count": null,
   "metadata": {},
   "outputs": [],
   "source": []
  },
  {
   "cell_type": "code",
   "execution_count": null,
   "metadata": {},
   "outputs": [],
   "source": []
  },
  {
   "cell_type": "code",
   "execution_count": null,
   "metadata": {},
   "outputs": [],
   "source": []
  },
  {
   "cell_type": "code",
   "execution_count": null,
   "metadata": {},
   "outputs": [],
   "source": []
  }
 ],
 "metadata": {
  "kernelspec": {
   "display_name": "igwn-py37",
   "language": "python",
   "name": "igwn-py37"
  },
  "language_info": {
   "codemirror_mode": {
    "name": "ipython",
    "version": 3
   },
   "file_extension": ".py",
   "mimetype": "text/x-python",
   "name": "python",
   "nbconvert_exporter": "python",
   "pygments_lexer": "ipython3",
   "version": "3.7.10"
  }
 },
 "nbformat": 4,
 "nbformat_minor": 4
}
